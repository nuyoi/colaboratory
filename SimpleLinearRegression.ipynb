{
  "nbformat": 4,
  "nbformat_minor": 0,
  "metadata": {
    "colab": {
      "name": "SimpleLinearRegression.ipynb",
      "provenance": [],
      "authorship_tag": "ABX9TyN9qtDXwTQNIf/vNEYrz8fq",
      "include_colab_link": true
    },
    "kernelspec": {
      "name": "python3",
      "display_name": "Python 3"
    }
  },
  "cells": [
    {
      "cell_type": "markdown",
      "metadata": {
        "id": "view-in-github",
        "colab_type": "text"
      },
      "source": [
        "<a href=\"https://colab.research.google.com/github/nuyoi/colaboratory/blob/master/SimpleLinearRegression.ipynb\" target=\"_parent\"><img src=\"https://colab.research.google.com/assets/colab-badge.svg\" alt=\"Open In Colab\"/></a>"
      ]
    },
    {
      "cell_type": "code",
      "metadata": {
        "id": "6HrXbKzGRdpZ",
        "colab_type": "code",
        "colab": {
          "base_uri": "https://localhost:8080/",
          "height": 35
        },
        "outputId": "0f3b5787-f9a1-484b-afcd-d3e41f97083d"
      },
      "source": [
        "import tensorflow as tf\n",
        "tf.executing_eagerly() # 즉시 실행"
      ],
      "execution_count": 1,
      "outputs": [
        {
          "output_type": "execute_result",
          "data": {
            "text/plain": [
              "True"
            ]
          },
          "metadata": {
            "tags": []
          },
          "execution_count": 1
        }
      ]
    },
    {
      "cell_type": "code",
      "metadata": {
        "id": "41r3URfRBSfD",
        "colab_type": "code",
        "colab": {}
      },
      "source": [
        "# data\n",
        "x_data = [1,2,3,4,5]\n",
        "y_data = [1,2,3,4,5]"
      ],
      "execution_count": 2,
      "outputs": []
    },
    {
      "cell_type": "code",
      "metadata": {
        "id": "FFo27iVPBfAH",
        "colab_type": "code",
        "colab": {}
      },
      "source": [
        "# W, b initialize\n",
        "W = tf.Variable(2.9)\n",
        "b = tf.Variable(0.5)"
      ],
      "execution_count": 3,
      "outputs": []
    },
    {
      "cell_type": "markdown",
      "metadata": {
        "id": "dqfSwutmD4FT",
        "colab_type": "text"
      },
      "source": [
        "사용될 함수\n",
        "\n",
        "* reduce_mean\n",
        "* square\n",
        "* assign_sub\n",
        "\n"
      ]
    },
    {
      "cell_type": "code",
      "metadata": {
        "id": "IkxkO4ewBxf0",
        "colab_type": "code",
        "colab": {
          "base_uri": "https://localhost:8080/",
          "height": 35
        },
        "outputId": "1b15a23a-fa6b-4d30-a14b-4f554a29befd"
      },
      "source": [
        "# reduce_mean\n",
        "v = [1., 2., 3., 4.]\n",
        "print(tf.reduce_mean(v).numpy())"
      ],
      "execution_count": 20,
      "outputs": [
        {
          "output_type": "stream",
          "text": [
            "2.5\n"
          ],
          "name": "stdout"
        }
      ]
    },
    {
      "cell_type": "code",
      "metadata": {
        "id": "wQ8Et8vSClMs",
        "colab_type": "code",
        "colab": {
          "base_uri": "https://localhost:8080/",
          "height": 35
        },
        "outputId": "b9cefe41-5d94-4b69-e79f-4d5761981e5f"
      },
      "source": [
        "# square\n",
        "print(tf.square(3).numpy())"
      ],
      "execution_count": 24,
      "outputs": [
        {
          "output_type": "stream",
          "text": [
            "9\n"
          ],
          "name": "stdout"
        }
      ]
    },
    {
      "cell_type": "code",
      "metadata": {
        "id": "NTypXPZ4DMDu",
        "colab_type": "code",
        "colab": {
          "base_uri": "https://localhost:8080/",
          "height": 35
        },
        "outputId": "e7036755-1b57-4f2f-d8f3-44e3032988b3"
      },
      "source": [
        "# assign_sub\n",
        "A = tf.Variable(1.)\n",
        "B = tf.Variable(0.1) \n",
        "A.assign_sub(B)\n",
        "print(A.numpy())"
      ],
      "execution_count": 26,
      "outputs": [
        {
          "output_type": "stream",
          "text": [
            "0.9\n"
          ],
          "name": "stdout"
        }
      ]
    },
    {
      "cell_type": "markdown",
      "metadata": {
        "id": "-3FOi1flSG69",
        "colab_type": "text"
      },
      "source": [
        "$$\n",
        "H(x)=Wx+b\n",
        "$$"
      ]
    },
    {
      "cell_type": "markdown",
      "metadata": {
        "id": "jBc1yO5qTpsn",
        "colab_type": "text"
      },
      "source": [
        "$$\n",
        "cost(W,b)=\\frac{1}{m} \\sum_{i=1}^{m}(H(x_i)-y_i)^2\n",
        "$$"
      ]
    },
    {
      "cell_type": "code",
      "metadata": {
        "id": "sRPI_FrgVCGA",
        "colab_type": "code",
        "colab": {}
      },
      "source": [
        "# Learning_rate initialize\n",
        "learning_rate = 0.01"
      ],
      "execution_count": 4,
      "outputs": []
    },
    {
      "cell_type": "code",
      "metadata": {
        "id": "Ke8wcJuxUizN",
        "colab_type": "code",
        "colab": {
          "base_uri": "https://localhost:8080/",
          "height": 215
        },
        "outputId": "f0b9baa9-3b42-4c2d-910c-c6a2afdb1cdf"
      },
      "source": [
        "for i in range(100+1):\n",
        "  # Gradient descent\n",
        "  with tf.GradientTape() as tape:\n",
        "    hypothesis = W * x_data + b\n",
        "    cost = tf.reduce_mean(tf.square(hypothesis - y_data))\n",
        "  W_grad, b_grad = tape.gradient(cost, [W,b])\n",
        "  W.assign_sub(learning_rate * W_grad)\n",
        "  b.assign_sub(learning_rate * b_grad)\n",
        "  if i % 10 == 0:\n",
        "    print(\"{:3}|{:9.4f}|{:12.4}|{:11.6f}\".format(i, W.numpy(), b.numpy(), cost))"
      ],
      "execution_count": 5,
      "outputs": [
        {
          "output_type": "stream",
          "text": [
            "  0|   2.4520|       0.376|  45.660004\n",
            " 10|   1.1036|    0.003398|   0.206336\n",
            " 20|   1.0128|    -0.02091|   0.001026\n",
            " 30|   1.0065|    -0.02184|   0.000093\n",
            " 40|   1.0059|    -0.02123|   0.000083\n",
            " 50|   1.0057|    -0.02053|   0.000077\n",
            " 60|   1.0055|    -0.01984|   0.000072\n",
            " 70|   1.0053|    -0.01918|   0.000067\n",
            " 80|   1.0051|    -0.01854|   0.000063\n",
            " 90|   1.0050|    -0.01793|   0.000059\n",
            "100|   1.0048|    -0.01733|   0.000055\n"
          ],
          "name": "stdout"
        }
      ]
    },
    {
      "cell_type": "code",
      "metadata": {
        "id": "rT8_Z2yeHXmM",
        "colab_type": "code",
        "colab": {}
      },
      "source": [
        ""
      ],
      "execution_count": null,
      "outputs": []
    }
  ]
}