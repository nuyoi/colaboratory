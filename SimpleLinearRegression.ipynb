{
  "nbformat": 4,
  "nbformat_minor": 0,
  "metadata": {
    "colab": {
      "name": "SimpleLinearRegression.ipynb",
      "provenance": [],
      "authorship_tag": "ABX9TyP0bG9hrSJ1knIEchs2uYUy",
      "include_colab_link": true
    },
    "kernelspec": {
      "name": "python3",
      "display_name": "Python 3"
    }
  },
  "cells": [
    {
      "cell_type": "markdown",
      "metadata": {
        "id": "view-in-github",
        "colab_type": "text"
      },
      "source": [
        "<a href=\"https://colab.research.google.com/github/nuyoi/colaboratory/blob/master/SimpleLinearRegression.ipynb\" target=\"_parent\"><img src=\"https://colab.research.google.com/assets/colab-badge.svg\" alt=\"Open In Colab\"/></a>"
      ]
    },
    {
      "cell_type": "code",
      "metadata": {
        "id": "6HrXbKzGRdpZ",
        "colab_type": "code",
        "colab": {
          "base_uri": "https://localhost:8080/",
          "height": 35
        },
        "outputId": "0a13fbcb-7bbe-46df-d5de-913d3acc31ce"
      },
      "source": [
        "import tensorflow as tf\n",
        "tf.executing_eagerly() # 즉시 실행"
      ],
      "execution_count": 15,
      "outputs": [
        {
          "output_type": "execute_result",
          "data": {
            "text/plain": [
              "True"
            ]
          },
          "metadata": {
            "tags": []
          },
          "execution_count": 15
        }
      ]
    },
    {
      "cell_type": "code",
      "metadata": {
        "id": "41r3URfRBSfD",
        "colab_type": "code",
        "colab": {}
      },
      "source": [
        "# data\n",
        "x_data = [1,2,3,4,5]\n",
        "y_data = [1,2,3,4,5]"
      ],
      "execution_count": 16,
      "outputs": []
    },
    {
      "cell_type": "code",
      "metadata": {
        "id": "FFo27iVPBfAH",
        "colab_type": "code",
        "colab": {}
      },
      "source": [
        "# W, b initialize\n",
        "W = tf.Variable(2.9)\n",
        "b = tf.Variable(0.5)"
      ],
      "execution_count": 17,
      "outputs": []
    },
    {
      "cell_type": "markdown",
      "metadata": {
        "id": "dqfSwutmD4FT",
        "colab_type": "text"
      },
      "source": [
        "사용될 함수\n",
        "\n",
        "* reduce_mean\n",
        "* square\n",
        "* assign_sub\n",
        "\n"
      ]
    },
    {
      "cell_type": "code",
      "metadata": {
        "id": "IkxkO4ewBxf0",
        "colab_type": "code",
        "colab": {
          "base_uri": "https://localhost:8080/",
          "height": 35
        },
        "outputId": "1b15a23a-fa6b-4d30-a14b-4f554a29befd"
      },
      "source": [
        "# reduce_mean\n",
        "v = [1., 2., 3., 4.]\n",
        "print(tf.reduce_mean(v).numpy())"
      ],
      "execution_count": 20,
      "outputs": [
        {
          "output_type": "stream",
          "text": [
            "2.5\n"
          ],
          "name": "stdout"
        }
      ]
    },
    {
      "cell_type": "code",
      "metadata": {
        "id": "wQ8Et8vSClMs",
        "colab_type": "code",
        "colab": {
          "base_uri": "https://localhost:8080/",
          "height": 35
        },
        "outputId": "b9cefe41-5d94-4b69-e79f-4d5761981e5f"
      },
      "source": [
        "# square\n",
        "print(tf.square(3).numpy())"
      ],
      "execution_count": 24,
      "outputs": [
        {
          "output_type": "stream",
          "text": [
            "9\n"
          ],
          "name": "stdout"
        }
      ]
    },
    {
      "cell_type": "code",
      "metadata": {
        "id": "NTypXPZ4DMDu",
        "colab_type": "code",
        "colab": {
          "base_uri": "https://localhost:8080/",
          "height": 35
        },
        "outputId": "e7036755-1b57-4f2f-d8f3-44e3032988b3"
      },
      "source": [
        "# assign_sub\n",
        "A = tf.Variable(1.)\n",
        "B = tf.Variable(0.1) \n",
        "A.assign_sub(B)\n",
        "print(A.numpy())"
      ],
      "execution_count": 26,
      "outputs": [
        {
          "output_type": "stream",
          "text": [
            "0.9\n"
          ],
          "name": "stdout"
        }
      ]
    },
    {
      "cell_type": "markdown",
      "metadata": {
        "id": "-3FOi1flSG69",
        "colab_type": "text"
      },
      "source": [
        "$$\n",
        "H(x)=Wx+b\n",
        "$$"
      ]
    },
    {
      "cell_type": "markdown",
      "metadata": {
        "id": "jBc1yO5qTpsn",
        "colab_type": "text"
      },
      "source": [
        "$$\n",
        "cost(W,b)=\\frac{1}{m} \\sum_{i=1}^{m}(H(x_i)-y_i)^2\n",
        "$$"
      ]
    },
    {
      "cell_type": "code",
      "metadata": {
        "id": "sRPI_FrgVCGA",
        "colab_type": "code",
        "colab": {}
      },
      "source": [
        "# Learning_rate initialize\n",
        "learning_rate = 0.01"
      ],
      "execution_count": 18,
      "outputs": []
    },
    {
      "cell_type": "code",
      "metadata": {
        "id": "Ke8wcJuxUizN",
        "colab_type": "code",
        "colab": {
          "base_uri": "https://localhost:8080/",
          "height": 215
        },
        "outputId": "702198e6-9d1b-4bb8-ff5c-838c6ead0c11"
      },
      "source": [
        "for i in range(100+1):\n",
        "  # Gradient descent\n",
        "  with tf.GradientTape() as tape:\n",
        "    hypothesis = W * x_data + b\n",
        "    cost = tf.reduce_mean(tf.square(hypothesis - y_data))\n",
        "  W_grad, b_grad = tape.gradient(cost, [W,b])\n",
        "  W.assign_sub(learning_rate * W_grad)\n",
        "  b.assign_sub(learning_rate * b_grad)\n",
        "  if i % 10 == 0:\n",
        "    print(\"{:3}|{:9.4f}|{:12.4}|{:11.6f}\".format(i, W.numpy(), b.numpy(), cost))"
      ],
      "execution_count": 33,
      "outputs": [
        {
          "output_type": "stream",
          "text": [
            "  0|   1.0009|   -0.003113|   0.000002\n",
            " 10|   1.0008|   -0.003009|   0.000002\n",
            " 20|   1.0008|   -0.002909|   0.000002\n",
            " 30|   1.0008|   -0.002812|   0.000001\n",
            " 40|   1.0008|   -0.002719|   0.000001\n",
            " 50|   1.0007|   -0.002628|   0.000001\n",
            " 60|   1.0007|   -0.002541|   0.000001\n",
            " 70|   1.0007|   -0.002456|   0.000001\n",
            " 80|   1.0007|   -0.002374|   0.000001\n",
            " 90|   1.0006|   -0.002295|   0.000001\n",
            "100|   1.0006|   -0.002219|   0.000001\n"
          ],
          "name": "stdout"
        }
      ]
    }
  ]
}